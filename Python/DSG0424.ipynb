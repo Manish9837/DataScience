{
 "cells": [
  {
   "cell_type": "code",
   "execution_count": 1,
   "id": "d062ac47-276a-4fe6-b941-67d612622b1b",
   "metadata": {},
   "outputs": [
    {
     "name": "stdout",
     "output_type": "stream",
     "text": [
      "hi everyone!!\n"
     ]
    }
   ],
   "source": [
    "print(\"hi everyone!!\")"
   ]
  },
  {
   "cell_type": "code",
   "execution_count": 2,
   "id": "5adb6917-f5cf-4c2a-ae25-34f65d6b53a3",
   "metadata": {},
   "outputs": [
    {
     "data": {
      "text/plain": [
       "50"
      ]
     },
     "execution_count": 2,
     "metadata": {},
     "output_type": "execute_result"
    }
   ],
   "source": [
    "24+26"
   ]
  },
  {
   "cell_type": "code",
   "execution_count": 3,
   "id": "8a9a5786-01c4-400d-a633-ee29c96f468b",
   "metadata": {},
   "outputs": [
    {
     "data": {
      "text/plain": [
       "0"
      ]
     },
     "execution_count": 3,
     "metadata": {},
     "output_type": "execute_result"
    }
   ],
   "source": [
    "24%12"
   ]
  },
  {
   "cell_type": "code",
   "execution_count": 4,
   "id": "9c40ab99-bdd6-4d1b-8b6f-a51781d3b0d0",
   "metadata": {},
   "outputs": [
    {
     "name": "stdout",
     "output_type": "stream",
     "text": [
      "Manish wadhwa\n"
     ]
    }
   ],
   "source": [
    "print (\"Manish wadhwa\")"
   ]
  },
  {
   "cell_type": "code",
   "execution_count": 8,
   "id": "8eadcbc3-85f7-473e-8f50-f94592f40b32",
   "metadata": {},
   "outputs": [
    {
     "data": {
      "text/plain": [
       "True"
      ]
     },
     "execution_count": 8,
     "metadata": {},
     "output_type": "execute_result"
    }
   ],
   "source": [
    "10 <= 10"
   ]
  },
  {
   "cell_type": "code",
   "execution_count": null,
   "id": "311825dd-a5f7-46e4-8b7a-b4c05b751bba",
   "metadata": {},
   "outputs": [],
   "source": []
  },
  {
   "cell_type": "code",
   "execution_count": null,
   "id": "8a779141-6fb1-41ca-85bf-cd38d34b4f58",
   "metadata": {},
   "outputs": [],
   "source": []
  }
 ],
 "metadata": {
  "kernelspec": {
   "display_name": "Python 3 (ipykernel)",
   "language": "python",
   "name": "python3"
  },
  "language_info": {
   "codemirror_mode": {
    "name": "ipython",
    "version": 3
   },
   "file_extension": ".py",
   "mimetype": "text/x-python",
   "name": "python",
   "nbconvert_exporter": "python",
   "pygments_lexer": "ipython3",
   "version": "3.11.7"
  }
 },
 "nbformat": 4,
 "nbformat_minor": 5
}
